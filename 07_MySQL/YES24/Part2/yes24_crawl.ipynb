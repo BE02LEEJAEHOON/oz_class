{
 "cells": [
  {
   "cell_type": "markdown",
   "metadata": {},
   "source": [
    "### 예스24 크롤링"
   ]
  },
  {
   "cell_type": "code",
   "execution_count": 13,
   "metadata": {},
   "outputs": [],
   "source": [
    "from selenium import webdriver\n",
    "browser = webdriver.Chrome()\n"
   ]
  },
  {
   "cell_type": "code",
   "execution_count": 14,
   "metadata": {},
   "outputs": [],
   "source": [
    "url = 'https://google.com'\n",
    "browser.get(url)"
   ]
  },
  {
   "cell_type": "code",
   "execution_count": 15,
   "metadata": {},
   "outputs": [
    {
     "data": {
      "text/plain": [
       "'대한민국'"
      ]
     },
     "execution_count": 15,
     "metadata": {},
     "output_type": "execute_result"
    }
   ],
   "source": [
    "from selenium.webdriver.common.by import By\n",
    "\n",
    "browser.find_element(By.CLASS_NAME, 'uU7dJb').text\n"
   ]
  },
  {
   "cell_type": "code",
   "execution_count": 16,
   "metadata": {},
   "outputs": [],
   "source": [
    "url = 'https://www.yes24.com/Product/Category/BestSeller?CategoryNumber=001&sumgb=06'\n",
    "browser.get(url)"
   ]
  },
  {
   "cell_type": "code",
   "execution_count": 27,
   "metadata": {},
   "outputs": [
    {
     "name": "stdout",
     "output_type": "stream",
     "text": [
      "https://www.yes24.com/Product/Goods/122120495\n",
      "https://www.yes24.com/Product/Goods/123675187\n",
      "https://www.yes24.com/Product/Goods/117014613\n",
      "https://www.yes24.com/Product/Goods/124043812\n",
      "https://www.yes24.com/Product/Goods/124043802\n",
      "https://www.yes24.com/Product/Goods/124702623\n",
      "https://www.yes24.com/Product/Goods/122090360\n",
      "https://www.yes24.com/Product/Goods/123400303\n",
      "https://www.yes24.com/Product/Goods/122944685\n",
      "https://www.yes24.com/Product/Goods/118579613\n",
      "https://www.yes24.com/Product/Goods/124112599\n",
      "https://www.yes24.com/Product/Goods/124539805\n",
      "https://www.yes24.com/Product/Goods/122428190\n",
      "https://www.yes24.com/Product/Goods/124501342\n",
      "https://www.yes24.com/Product/Goods/119562091\n",
      "https://www.yes24.com/Product/Goods/119458052\n",
      "https://www.yes24.com/Product/Goods/124574394\n",
      "https://www.yes24.com/Product/Goods/118413014\n",
      "https://www.yes24.com/Product/Goods/124707232\n",
      "https://www.yes24.com/Product/Goods/79297023\n",
      "https://www.yes24.com/Product/Goods/119120517\n",
      "https://www.yes24.com/Product/Goods/124702605\n",
      "https://www.yes24.com/Product/Goods/124408170\n",
      "https://www.yes24.com/Product/Goods/124719615\n"
     ]
    }
   ],
   "source": [
    "# 1페이지의 링크 데이터 전부 수집\n",
    "### 1개의 베스트 셀러 링크 수집\n",
    "browser.find_element(By.CLASS_NAME, 'gd_name').get_attribute('href')\n",
    "\n",
    "###1페이지 전체의 링크 데이터\n",
    "datas = browser.find_elements(By.CLASS_NAME, 'gd_name') # s 붙이면 리스트 \n",
    "\n",
    "for i in datas:\n",
    "    print(i.get_attribute('href'))"
   ]
  },
  {
   "cell_type": "code",
   "execution_count": 30,
   "metadata": {},
   "outputs": [
    {
     "name": "stdout",
     "output_type": "stream",
     "text": [
      "********** 현재 1페이지 수집 중 입니다.*현재 1페이지 수집 중 입니다.*현재 1페이지 수집 중 입니다.*현재 1페이지 수집 중 입니다.*현재 1페이지 수집 중 입니다.*현재 1페이지 수집 중 입니다.*현재 1페이지 수집 중 입니다.*현재 1페이지 수집 중 입니다.*현재 1페이지 수집 중 입니다.*현재 1페이지 수집 중 입니다.*\n",
      "https://www.yes24.com/Product/Goods/122120495\n",
      "https://www.yes24.com/Product/Goods/123675187\n",
      "https://www.yes24.com/Product/Goods/117014613\n",
      "https://www.yes24.com/Product/Goods/124043812\n",
      "https://www.yes24.com/Product/Goods/124043802\n",
      "https://www.yes24.com/Product/Goods/124702623\n",
      "https://www.yes24.com/Product/Goods/122090360\n",
      "https://www.yes24.com/Product/Goods/123400303\n",
      "https://www.yes24.com/Product/Goods/122944685\n",
      "https://www.yes24.com/Product/Goods/118579613\n",
      "https://www.yes24.com/Product/Goods/124112599\n",
      "https://www.yes24.com/Product/Goods/124539805\n",
      "https://www.yes24.com/Product/Goods/122428190\n",
      "https://www.yes24.com/Product/Goods/124501342\n",
      "https://www.yes24.com/Product/Goods/119562091\n",
      "https://www.yes24.com/Product/Goods/119458052\n",
      "https://www.yes24.com/Product/Goods/124574394\n",
      "https://www.yes24.com/Product/Goods/118413014\n",
      "https://www.yes24.com/Product/Goods/124707232\n",
      "https://www.yes24.com/Product/Goods/79297023\n",
      "https://www.yes24.com/Product/Goods/119120517\n",
      "https://www.yes24.com/Product/Goods/124702605\n",
      "https://www.yes24.com/Product/Goods/124408170\n",
      "https://www.yes24.com/Product/Goods/124719615\n",
      "********** 현재 2페이지 수집 중 입니다.*현재 2페이지 수집 중 입니다.*현재 2페이지 수집 중 입니다.*현재 2페이지 수집 중 입니다.*현재 2페이지 수집 중 입니다.*현재 2페이지 수집 중 입니다.*현재 2페이지 수집 중 입니다.*현재 2페이지 수집 중 입니다.*현재 2페이지 수집 중 입니다.*현재 2페이지 수집 중 입니다.*\n",
      "https://www.yes24.com/Product/Goods/123930891\n",
      "https://www.yes24.com/Product/Goods/123318244\n",
      "https://www.yes24.com/Product/Goods/124397623\n",
      "https://www.yes24.com/Product/Goods/123930880\n",
      "https://www.yes24.com/Product/Goods/124472824\n",
      "https://www.yes24.com/Product/Goods/122426425\n",
      "https://www.yes24.com/Product/Goods/122880691\n",
      "https://www.yes24.com/Product/Goods/124849202\n",
      "https://www.yes24.com/Product/Goods/124347651\n",
      "https://www.yes24.com/Product/Goods/79208821\n",
      "https://www.yes24.com/Product/Goods/118569079\n",
      "https://www.yes24.com/Product/Goods/122433629\n",
      "https://www.yes24.com/Product/Goods/124702295\n",
      "https://www.yes24.com/Product/Goods/67362730\n",
      "https://www.yes24.com/Product/Goods/124645703\n",
      "https://www.yes24.com/Product/Goods/124717965\n",
      "https://www.yes24.com/Product/Goods/8759796\n",
      "https://www.yes24.com/Product/Goods/9349031\n",
      "https://www.yes24.com/Product/Goods/124127709\n",
      "https://www.yes24.com/Product/Goods/116467955\n",
      "https://www.yes24.com/Product/Goods/96072143\n",
      "https://www.yes24.com/Product/Goods/124644662\n",
      "https://www.yes24.com/Product/Goods/114853233\n",
      "https://www.yes24.com/Product/Goods/90428162\n",
      "********** 현재 3페이지 수집 중 입니다.*현재 3페이지 수집 중 입니다.*현재 3페이지 수집 중 입니다.*현재 3페이지 수집 중 입니다.*현재 3페이지 수집 중 입니다.*현재 3페이지 수집 중 입니다.*현재 3페이지 수집 중 입니다.*현재 3페이지 수집 중 입니다.*현재 3페이지 수집 중 입니다.*현재 3페이지 수집 중 입니다.*\n",
      "https://www.yes24.com/Product/Goods/124014108\n",
      "https://www.yes24.com/Product/Goods/124027690\n",
      "https://www.yes24.com/Product/Goods/124184330\n",
      "https://www.yes24.com/Product/Goods/124733569\n",
      "https://www.yes24.com/Product/Goods/124157362\n",
      "https://www.yes24.com/Product/Goods/124106975\n",
      "https://www.yes24.com/Product/Goods/123676271\n",
      "https://www.yes24.com/Product/Goods/120761010\n",
      "https://www.yes24.com/Product/Goods/118578901\n",
      "https://www.yes24.com/Product/Goods/124219505\n",
      "https://www.yes24.com/Product/Goods/124339743\n",
      "https://www.yes24.com/Product/Goods/120785860\n",
      "https://www.yes24.com/Product/Goods/124852714\n",
      "https://www.yes24.com/Product/Goods/124315515\n",
      "https://www.yes24.com/Product/Goods/91868954\n",
      "https://www.yes24.com/Product/Goods/124315134\n",
      "https://www.yes24.com/Product/Goods/121911671\n",
      "https://www.yes24.com/Product/Goods/124219508\n",
      "https://www.yes24.com/Product/Goods/123623040\n",
      "https://www.yes24.com/Product/Goods/124702004\n",
      "https://www.yes24.com/Product/Goods/123623043\n",
      "https://www.yes24.com/Product/Goods/124106985\n",
      "https://www.yes24.com/Product/Goods/106369008\n",
      "https://www.yes24.com/Product/Goods/124213903\n"
     ]
    }
   ],
   "source": [
    "# 3페이지까지의 링크 데이터 전부 수집\n",
    "# https://www.yes24.com/Product/Category/BestSeller?categoryNumber=001&pageNumber=1&pageSize=24\n",
    "# https://www.yes24.com/Product/Category/BestSeller?categoryNumber=001&pageNumber=2&pageSize=24\n",
    "# https://www.yes24.com/Product/Category/BestSeller?categoryNumber=001&pageNumber=3&pageSize=24\n",
    "\n",
    "import time\n",
    "\n",
    "link_list = []\n",
    "for i in range(1,4):\n",
    "    print('*' *10,f'현재 {i}페이지 수집 중 입니다.''*' *10)\n",
    "    url = f'https://www.yes24.com/Product/Category/BestSeller?categoryNumber=001&pageNumber={i}&pageSize=24'\n",
    "    browser.get(url)\n",
    "\n",
    "    datas = browser.find_elements(By.CLASS_NAME, 'gd_name') # s 붙이면 리스트 \n",
    "\n",
    "    for i in datas:\n",
    "        link = print(i.get_attribute('href'))\n",
    "\n",
    "        link_list.append(link)\n",
    "\n",
    "    time.sleep(3)"
   ]
  },
  {
   "cell_type": "code",
   "execution_count": 31,
   "metadata": {},
   "outputs": [
    {
     "data": {
      "text/plain": [
       "72"
      ]
     },
     "execution_count": 31,
     "metadata": {},
     "output_type": "execute_result"
    }
   ],
   "source": [
    "len(link_list)"
   ]
  }
 ],
 "metadata": {
  "kernelspec": {
   "display_name": ".venv",
   "language": "python",
   "name": "python3"
  },
  "language_info": {
   "codemirror_mode": {
    "name": "ipython",
    "version": 3
   },
   "file_extension": ".py",
   "mimetype": "text/x-python",
   "name": "python",
   "nbconvert_exporter": "python",
   "pygments_lexer": "ipython3",
   "version": "3.12.1"
  }
 },
 "nbformat": 4,
 "nbformat_minor": 2
}
